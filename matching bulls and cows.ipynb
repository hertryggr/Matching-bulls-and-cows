{
 "cells": [
  {
   "cell_type": "code",
   "execution_count": 1,
   "id": "0a2b6d9c",
   "metadata": {
    "execution": {
     "iopub.execute_input": "2025-07-03T02:30:09.648544Z",
     "iopub.status.busy": "2025-07-03T02:30:09.647861Z",
     "iopub.status.idle": "2025-07-03T02:30:14.099920Z",
     "shell.execute_reply": "2025-07-03T02:30:14.099028Z"
    },
    "papermill": {
     "duration": 4.456675,
     "end_time": "2025-07-03T02:30:14.101175",
     "exception": false,
     "start_time": "2025-07-03T02:30:09.644500",
     "status": "completed"
    },
    "tags": []
   },
   "outputs": [
    {
     "name": "stdout",
     "output_type": "stream",
     "text": [
      "IMPORT OK!!!!!!\n"
     ]
    }
   ],
   "source": [
    "import numpy as np\n",
    "import pandas as pd\n",
    "from tqdm import tqdm\n",
    "from concurrent.futures import ThreadPoolExecutor\n",
    "import matplotlib.pyplot as plt\n",
    "import seaborn as sns\n",
    "import random\n",
    "import sys\n",
    "sys.setrecursionlimit(10000)\n",
    "\n",
    "print('IMPORT OK!!!!!!')\n",
    "# Загрузка данных\n",
    "bulls = pd.read_csv('/kaggle/input/cow-bull-breeding/data/bulls.csv')\n",
    "cows = pd.read_csv('/kaggle/input/cow-bull-breeding/data/cows.csv')\n",
    "pedigree = pd.read_csv('/kaggle/input/cow-bull-breeding/data/pedigree.csv')\n",
    "\n",
    "# создаём словари\n",
    "cow_ebv = dict(zip(cows['id'], cows['ebv']))\n",
    "bull_ebv = dict(zip(bulls['id'], bulls['ebv']))"
   ]
  },
  {
   "cell_type": "markdown",
   "id": "5d047dbe",
   "metadata": {
    "papermill": {
     "duration": 0.002007,
     "end_time": "2025-07-03T02:30:14.105771",
     "exception": false,
     "start_time": "2025-07-03T02:30:14.103764",
     "status": "completed"
    },
    "tags": []
   },
   "source": [
    "# Теперь вычисляем генетическую ценность (то самое EBV) для животных с неизвестными данными, используя родословную: создаётся общий словарь значений, где недостающие EBV заполняются рекурсивно через родителей — для быков учитывается точность данных (на основе количества потомков), для других животных используется среднее значение родителей (или 60% при одном известном родителе), а при полном отсутствии данных устанавливается ноль; после расчётов все таблицы обновляются заполненными значениями для последующих операций."
   ]
  },
  {
   "cell_type": "code",
   "execution_count": 2,
   "id": "6e6750a3",
   "metadata": {
    "execution": {
     "iopub.execute_input": "2025-07-03T02:30:14.110771Z",
     "iopub.status.busy": "2025-07-03T02:30:14.110553Z",
     "iopub.status.idle": "2025-07-03T02:30:14.388683Z",
     "shell.execute_reply": "2025-07-03T02:30:14.388101Z"
    },
    "papermill": {
     "duration": 0.28212,
     "end_time": "2025-07-03T02:30:14.389914",
     "exception": false,
     "start_time": "2025-07-03T02:30:14.107794",
     "status": "completed"
    },
    "tags": []
   },
   "outputs": [],
   "source": [
    "# 2. Заполнение пропусков в EBV с использованием родословной (иначе потом не получилось высчитать средний EBV и разброс) -----------------\n",
    "#  словарь EBV всех животных\n",
    "all_ebv = {}\n",
    "parents = {}\n",
    "all_animals = set(bulls['id']).union(cows['id']).union(pedigree['id'])\n",
    "\n",
    "\n",
    "for animal_id in all_animals:\n",
    "    if animal_id in cow_ebv:\n",
    "        all_ebv[animal_id] = cow_ebv[animal_id]\n",
    "    elif animal_id in bull_ebv:\n",
    "        all_ebv[animal_id] = bull_ebv[animal_id]\n",
    "    else:\n",
    "        all_ebv[animal_id] = np.nan  # Помечаем неизвестные значения\n",
    "\n",
    "# функция для вычисления EBV на основе родителей\n",
    "descendants_count = dict(zip(bulls['id'], bulls['descendants_count'].fillna(0)))\n",
    "\n",
    "def calculate_ebv(animal_id, depth=0, max_depth=10):\n",
    "    if depth > max_depth:\n",
    "        return 0  #защита от бесконечной рекурсии\n",
    "    \n",
    "    if animal_id in bull_ebv and not pd.isna(bull_ebv[animal_id]):\n",
    "        return bull_ebv[animal_id] \n",
    "\n",
    "        \n",
    "    father = parents.get(animal_id, {}).get('father')\n",
    "    mother = parents.get(animal_id, {}).get('mother')\n",
    "    \n",
    "    father_ebv = calculate_ebv(father, depth+1, max_depth) if father else 0\n",
    "    mother_ebv = calculate_ebv(mother, depth+1, max_depth) if mother else 0\n",
    "    \n",
    "    # вычисляем EBV по родителям\n",
    "    if father and mother:\n",
    "        return (father_ebv + mother_ebv) / 2\n",
    "    elif father or mother:\n",
    "        return (father_ebv + mother_ebv) * 0.6  # учитываем факт отсутсвия одного из родителей *штрафом* инбридинга\n",
    "    else:\n",
    "        return 0  # Базовое значение\n",
    "# заполняем EBV для всех животных\n",
    "for animal_id in all_animals:\n",
    "    if animal_id in all_ebv and np.isnan(all_ebv[animal_id]):\n",
    "        all_ebv[animal_id] = calculate_ebv(animal_id)\n",
    "\n",
    "cows['ebv'] = cows['id'].map(all_ebv).fillna(0)\n",
    "bulls['ebv'] = bulls['id'].map(all_ebv).fillna(0)\n",
    "\n",
    "# пересоздание словарей EBV\n",
    "cow_ebv = dict(zip(cows['id'], cows['ebv']))\n",
    "bull_ebv = dict(zip(bulls['id'], bulls['ebv']))"
   ]
  },
  {
   "cell_type": "code",
   "execution_count": 3,
   "id": "a4638915",
   "metadata": {
    "execution": {
     "iopub.execute_input": "2025-07-03T02:30:14.395436Z",
     "iopub.status.busy": "2025-07-03T02:30:14.395210Z",
     "iopub.status.idle": "2025-07-03T02:30:15.107429Z",
     "shell.execute_reply": "2025-07-03T02:30:15.106737Z"
    },
    "papermill": {
     "duration": 0.716537,
     "end_time": "2025-07-03T02:30:15.109051",
     "exception": false,
     "start_time": "2025-07-03T02:30:14.392514",
     "status": "completed"
    },
    "tags": []
   },
   "outputs": [
    {
     "name": "stderr",
     "output_type": "stream",
     "text": [
      "/usr/local/lib/python3.11/dist-packages/seaborn/_oldcore.py:1119: FutureWarning: use_inf_as_na option is deprecated and will be removed in a future version. Convert inf values to NaN before operating instead.\n",
      "  with pd.option_context('mode.use_inf_as_na', True):\n",
      "/usr/local/lib/python3.11/dist-packages/seaborn/_oldcore.py:1119: FutureWarning: use_inf_as_na option is deprecated and will be removed in a future version. Convert inf values to NaN before operating instead.\n",
      "  with pd.option_context('mode.use_inf_as_na', True):\n"
     ]
    },
    {
     "data": {
      "image/png": "[encoded data removed]",
      "text/plain": [
       "<Figure size 1500x500 with 2 Axes>"
      ]
     },
     "metadata": {},
     "output_type": "display_data"
    }
   ],
   "source": [
    "# Визуализация распределения EBV\n",
    "plt.figure(figsize=(15, 5))\n",
    "\n",
    "plt.subplot(1, 3, 1)\n",
    "sns.histplot(cows['ebv'], bins=30, kde=True, color='skyblue')\n",
    "plt.title('Распределение EBV у коров')\n",
    "plt.xlabel('EBV')\n",
    "plt.ylabel('Частота')\n",
    "\n",
    "plt.subplot(1, 3, 2)\n",
    "sns.histplot(bulls['ebv'], bins=30, kde=True, color='salmon')\n",
    "plt.title('Распределение EBV у быков')\n",
    "plt.xlabel('EBV')\n",
    "\n",
    "plt.tight_layout()\n",
    "plt.show()"
   ]
  },
  {
   "cell_type": "markdown",
   "id": "ed010b2d",
   "metadata": {
    "papermill": {
     "duration": 0.002702,
     "end_time": "2025-07-03T02:30:15.115161",
     "exception": false,
     "start_time": "2025-07-03T02:30:15.112459",
     "status": "completed"
    },
    "tags": []
   },
   "source": [
    "# Вычисляем генетическую близость между животными для предотвращения инбридинга (кровосмешения) -- (1) словарь родителей для всех животных (с обработкой отсутствующих данных через None), затем используем рекурсивную функцию с мемоизацией (memo_kinship), которая рассчитывает коэффициент родства по стандартной формуле — 0.5 для животных без известных родителей и 0.5*(1 + kinship родителей) для особей с полной родословной; финальная проверка check_kinship отфильтровывает пары с родством >5%, сохраняя биологическое разнообразие."
   ]
  },
  {
   "cell_type": "code",
   "execution_count": 4,
   "id": "b2f8fd4e",
   "metadata": {
    "execution": {
     "iopub.execute_input": "2025-07-03T02:30:15.121780Z",
     "iopub.status.busy": "2025-07-03T02:30:15.121580Z",
     "iopub.status.idle": "2025-07-03T02:30:15.527125Z",
     "shell.execute_reply": "2025-07-03T02:30:15.526558Z"
    },
    "papermill": {
     "duration": 0.410442,
     "end_time": "2025-07-03T02:30:15.528501",
     "exception": false,
     "start_time": "2025-07-03T02:30:15.118059",
     "status": "completed"
    },
    "tags": []
   },
   "outputs": [],
   "source": [
    "# 3. расчёт коэффициентов родства ----------------------------------\n",
    "parents = {}\n",
    "all_animals = set(bulls['id']).union(cows['id']).union(pedigree['id'])\n",
    "\n",
    "# словарь родителей\n",
    "parent_dict = pedigree.set_index('id')[['father_id', 'mother_id']].to_dict('index')\n",
    "parents = {aid: {'father': None, 'mother': None} for aid in all_animals}\n",
    "for aid, pdata in parent_dict.items():\n",
    "    if aid in parents:\n",
    "        parents[aid] = {\n",
    "            'father': pdata['father_id'] if pdata['father_id'] in all_animals else None,\n",
    "            'mother': pdata['mother_id'] if pdata['mother_id'] in all_animals else None\n",
    "        }\n",
    "\n",
    "# мемоизация родства\n",
    "memo_kinship = {}\n",
    "\n",
    "def calc_kinship(a, b):\n",
    "    if a not in parents or b not in parents:\n",
    "        return 0.0\n",
    "    \n",
    "    # сортируем для единообразия ключа\n",
    "    if a > b:\n",
    "        a, b = b, a\n",
    "        \n",
    "    key = (a, b)\n",
    "    if key in memo_kinship:\n",
    "        return memo_kinship[key]\n",
    "    \n",
    "    if a == b:\n",
    "        fa, mo = parents[a]['father'], parents[a]['mother']\n",
    "        if fa is None or mo is None:\n",
    "            k = 0.5\n",
    "        else:\n",
    "            k = 0.5 * (1 + calc_kinship(fa, mo))\n",
    "    else:\n",
    "        fb, mb = parents[b]['father'], parents[b]['mother']\n",
    "        k = 0\n",
    "        if fb:\n",
    "            k += calc_kinship(a, fb)\n",
    "        if mb:\n",
    "            k += calc_kinship(a, mb)\n",
    "        k *= .5\n",
    "    \n",
    "    memo_kinship[key] = k\n",
    "    return k\n",
    "\n",
    "# векторизированный расчет родства для всех пар\n",
    "def check_kinship(cow_bull_pair):\n",
    "    cow, bull = cow_bull_pair\n",
    "    return calc_kinship(cow, bull) <= 0.05"
   ]
  },
  {
   "cell_type": "markdown",
   "id": "6a330bf4",
   "metadata": {
    "papermill": {
     "duration": 0.002701,
     "end_time": "2025-07-03T02:30:15.534315",
     "exception": false,
     "start_time": "2025-07-03T02:30:15.531614",
     "status": "completed"
    },
    "tags": []
   },
   "source": [
    "# И под конец формируем пары \"корова-бык\" в два этапа: сначала параллельно проверяются все возможные комбинации на допустимое родство (≤5%) с расчётом EBV потомства, затем жадный алгоритм назначает быков коровам — сортирует пары по убыванию EBV, последовательно выбирая оптимальные варианты с контролем лимита использования быков (макс. 10% стада), а для оставшихся коров добавляет любых доступных быков, гарантируя 100% покрытие и максимизацию генетического потенциала."
   ]
  },
  {
   "cell_type": "code",
   "execution_count": 5,
   "id": "5f4cfb47",
   "metadata": {
    "execution": {
     "iopub.execute_input": "2025-07-03T02:30:15.540774Z",
     "iopub.status.busy": "2025-07-03T02:30:15.540550Z",
     "iopub.status.idle": "2025-07-03T02:31:14.309453Z",
     "shell.execute_reply": "2025-07-03T02:31:14.308663Z"
    },
    "papermill": {
     "duration": 58.773438,
     "end_time": "2025-07-03T02:31:14.310624",
     "exception": false,
     "start_time": "2025-07-03T02:30:15.537186",
     "status": "completed"
    },
    "tags": []
   },
   "outputs": [
    {
     "name": "stdout",
     "output_type": "stream",
     "text": [
      "Проверка родства...\n"
     ]
    },
    {
     "name": "stderr",
     "output_type": "stream",
     "text": [
      "100%|██████████| 669903/669903 [00:01<00:00, 470812.55it/s]\n"
     ]
    },
    {
     "name": "stdout",
     "output_type": "stream",
     "text": [
      "Сформировано 658364 допустимых пар\n",
      "Жадная оптимизация назначений...\n",
      "Непокрыто коров: 0\n"
     ]
    }
   ],
   "source": [
    "# 4.  формирование допустимых пар --------------------------------\n",
    "def generate_pairs():\n",
    "    cow_ids = cows['id'].tolist()\n",
    "    bull_ids = bulls['id'].tolist()\n",
    "    pairs = []\n",
    "    \n",
    "    # создаем все возможные пары\n",
    "    all_pairs = [(cow, bull) for cow in cow_ids for bull in bull_ids]\n",
    "    \n",
    "    # проверка родства\n",
    "    print(\"Проверка родства...\")\n",
    "    with ThreadPoolExecutor(max_workers=4) as executor:\n",
    "        results = list(tqdm(executor.map(check_kinship, all_pairs), total=len(all_pairs)))\n",
    "    \n",
    "    # формируем допустимые пары с EBV\n",
    "    for (cow, bull), is_valid in zip(all_pairs, results):\n",
    "        if is_valid:\n",
    "            ebv_score = (cow_ebv[cow] + bull_ebv[bull]) / 2.0\n",
    "            pairs.append((cow, bull, ebv_score))\n",
    "    \n",
    "    return pairs\n",
    "\n",
    "allowed_pairs = generate_pairs()\n",
    "print(f\"Сформировано {len(allowed_pairs)} допустимых пар\")\n",
    "\n",
    "# 5. жадная оптимизация назначений -------------------------------------------\n",
    "def greedy_assignment(pairs, max_bull_uses):\n",
    "    # сортировка пары по EBV (по убыыванию)\n",
    "    sorted_pairs = sorted(pairs, key=lambda x: x[2], reverse=True)\n",
    "    \n",
    "    assignments = {}\n",
    "    bull_counts = {bull: 0 for bull in bulls['id']}\n",
    "    assigned_cows = set()\n",
    "    total_ebv = 0\n",
    "    \n",
    "    # жадное назначение\n",
    "    for cow, bull, ebv in sorted_pairs:\n",
    "        if cow in assigned_cows:\n",
    "            continue\n",
    "        if bull_counts[bull] < max_bull_uses:\n",
    "            assignments[cow] = bull\n",
    "            assigned_cows.add(cow)\n",
    "            bull_counts[bull] += 1\n",
    "            total_ebv += ebv\n",
    "    \n",
    "    # обработка непокрытых коров (если есть)\n",
    "    unassigned_cows = set(cows['id']) - assigned_cows\n",
    "    print(f\"Непокрыто коров: {len(unassigned_cows)}\")\n",
    "    \n",
    "    for cow in unassigned_cows:\n",
    "        # ищем любого доступного быка\n",
    "        for bull in bulls['id']:\n",
    "            if bull_counts[bull] < max_bull_uses:\n",
    "                assignments[cow] = bull\n",
    "                bull_counts[bull] += 1\n",
    "                break\n",
    "    \n",
    "    return assignments, total_ebv\n",
    "\n",
    "print(\"Жадная оптимизация назначений...\")\n",
    "max_bull_uses = max(1, (len(cows) + 9) // 10)  # максимальная нагрузка 10% коров на быка\n",
    "assignments, total_ebv = greedy_assignment(allowed_pairs, max_bull_uses)"
   ]
  },
  {
   "cell_type": "code",
   "execution_count": 6,
   "id": "bca63060",
   "metadata": {
    "execution": {
     "iopub.execute_input": "2025-07-03T02:31:14.318888Z",
     "iopub.status.busy": "2025-07-03T02:31:14.318677Z",
     "iopub.status.idle": "2025-07-03T02:31:14.373308Z",
     "shell.execute_reply": "2025-07-03T02:31:14.372459Z"
    },
    "papermill": {
     "duration": 0.05985,
     "end_time": "2025-07-03T02:31:14.374445",
     "exception": false,
     "start_time": "2025-07-03T02:31:14.314595",
     "status": "completed"
    },
    "tags": []
   },
   "outputs": [
    {
     "name": "stdout",
     "output_type": "stream",
     "text": [
      "Средний EBV потомства: 889.6915\n",
      "Дисперсия EBV: 133320.4238\n",
      "Назначено коров: 17177 из 17177\n",
      "Макс. использование быков: 1718 коров (лимит: 1718)\n",
      "Готово! Результаты сохранены в cow_bull_assignments.csv\n"
     ]
    }
   ],
   "source": [
    "# 6. Экспорт результатов -----------------------------------------------------\n",
    "# делаем датафрейм\n",
    "assignments_list = [{'cow_id': cow, 'bull_id': bull} for cow, bull in assignments.items()]\n",
    "assignments_df = pd.DataFrame(assignments_list)\n",
    "assignments_df.to_csv('cow_bull_assignments.csv', index=False)\n",
    "\n",
    "# Расчет метрик\n",
    "ebv_values = []\n",
    "for cow, bull in assignments.items():\n",
    "    ebv = (cow_ebv[cow] + bull_ebv[bull]) / 2.0\n",
    "    ebv_values.append(ebv)\n",
    "\n",
    "avg_ebv = np.mean(ebv_values) if ebv_values else 0\n",
    "ebv_variance = np.var(ebv_values) if ebv_values else 0\n",
    "\n",
    "print(f'Средний EBV потомства: {avg_ebv:.4f}')\n",
    "print(f'Дисперсия EBV: {ebv_variance:.4f}')\n",
    "print(f'Назначено коров: {len(assignments)} из {len(cows)}')\n",
    "\n",
    "# Проверка ограничений\n",
    "bull_usage = assignments_df['bull_id'].value_counts()\n",
    "print(f\"Макс. использование быков: {bull_usage.max()} коров (лимит: {max_bull_uses})\")\n",
    "print(\"Готово! Результаты сохранены в cow_bull_assignments.csv\")\n"
   ]
  },
  {
   "cell_type": "code",
   "execution_count": null,
   "id": "34684312",
   "metadata": {
    "papermill": {
     "duration": 0.003297,
     "end_time": "2025-07-03T02:31:14.381223",
     "exception": false,
     "start_time": "2025-07-03T02:31:14.377926",
     "status": "completed"
    },
    "tags": []
   },
   "outputs": [],
   "source": []
  }
 ],
 "metadata": {
  "kaggle": {
   "accelerator": "nvidiaTeslaT4",
   "dataSources": [
    {
     "datasetId": 7725067,
     "sourceId": 12259268,
     "sourceType": "datasetVersion"
    }
   ],
   "dockerImageVersionId": 31040,
   "isGpuEnabled": true,
   "isInternetEnabled": true,
   "language": "python",
   "sourceType": "notebook"
  },
  "kernelspec": {
   "display_name": "Python 3",
   "language": "python",
   "name": "python3"
  },
  "language_info": {
   "codemirror_mode": {
    "name": "ipython",
    "version": 3
   },
   "file_extension": ".py",
   "mimetype": "text/x-python",
   "name": "python",
   "nbconvert_exporter": "python",
   "pygments_lexer": "ipython3",
   "version": "3.11.11"
  },
  "papermill": {
   "default_parameters": {},
   "duration": 72.167167,
   "end_time": "2025-07-03T02:31:16.106887",
   "environment_variables": {},
   "exception": null,
   "input_path": "__notebook__.ipynb",
   "output_path": "__notebook__.ipynb",
   "parameters": {},
   "start_time": "2025-07-03T02:30:03.939720",
   "version": "2.6.0"
  }
 },
 "nbformat": 4,
 "nbformat_minor": 5
}
